{
 "cells": [
  {
   "cell_type": "markdown",
   "metadata": {},
   "source": [
    "# 1. Required Packages:"
   ]
  },
  {
   "cell_type": "code",
   "execution_count": 1,
   "metadata": {},
   "outputs": [
    {
     "name": "stderr",
     "output_type": "stream",
     "text": [
      "/anaconda/lib/python3.6/site-packages/statsmodels/compat/pandas.py:56: FutureWarning: The pandas.core.datetools module is deprecated and will be removed in a future version. Please use the pandas.tseries module instead.\n",
      "  from pandas.core import datetools\n"
     ]
    }
   ],
   "source": [
    "import pandas as pd\n",
    "import sklearn\n",
    "import matplotlib.pyplot as plt \n",
    "import seaborn as sns\n",
    "import numpy as np\n",
    "from sklearn.model_selection import train_test_split\n",
    "from sklearn.linear_model import Ridge, LinearRegression\n",
    "from sklearn.metrics import r2_score, explained_variance_score, mean_absolute_error, mean_squared_error\n",
    "import scipy\n",
    "import statsmodels\n",
    "import statsmodels.api as sm\n",
    "from statsmodels.formula.api import ols\n",
    "%matplotlib inline"
   ]
  },
  {
   "cell_type": "markdown",
   "metadata": {},
   "source": [
    "# 2. Pre-Processing:"
   ]
  },
  {
   "cell_type": "code",
   "execution_count": 2,
   "metadata": {},
   "outputs": [],
   "source": [
    "raw_data = pd.read_csv(\"pp-complete.csv\", dtype={\"70000\": np.int32} )"
   ]
  },
  {
   "cell_type": "code",
   "execution_count": 3,
   "metadata": {},
   "outputs": [
    {
     "data": {
      "text/plain": [
       "array(['{F61BC602-B309-4373-B142-14C6F7CAD04C}', '70000',\n",
       "       '1995-06-09 00:00', 'EX39 1BE', 'D', 'N', 'F', '14', 'Unnamed: 8',\n",
       "       'LUNDY VIEW', 'NORTHAM', 'BIDEFORD', 'TORRIDGE', 'DEVON', 'A', 'A.1'], dtype=object)"
      ]
     },
     "execution_count": 3,
     "metadata": {},
     "output_type": "execute_result"
    }
   ],
   "source": [
    "raw_data.columns.values"
   ]
  },
  {
   "cell_type": "code",
   "execution_count": 4,
   "metadata": {
    "collapsed": true
   },
   "outputs": [],
   "source": [
    "raw_data.columns = [\"Transaction unique identifier\",\"Price\",\"DateOfTransfer\",\"Postcode\",\"PropertyType\",\"Old/New\",\"Duration\",\"PAON\",\"SAON\",\"Street\",\"Locality\",\"Town\",\"District\",\"County\",\"PPD\",\"Record \"]"
   ]
  },
  {
   "cell_type": "code",
   "execution_count": 5,
   "metadata": {},
   "outputs": [
    {
     "data": {
      "text/plain": [
       "array(['Transaction unique identifier', 'Price', 'DateOfTransfer',\n",
       "       'Postcode', 'PropertyType', 'Old/New', 'Duration', 'PAON', 'SAON',\n",
       "       'Street', 'Locality', 'Town', 'District', 'County', 'PPD', 'Record '], dtype=object)"
      ]
     },
     "execution_count": 5,
     "metadata": {},
     "output_type": "execute_result"
    }
   ],
   "source": [
    "raw_data.columns.values"
   ]
  },
  {
   "cell_type": "code",
   "execution_count": 6,
   "metadata": {},
   "outputs": [
    {
     "data": {
      "text/html": [
       "<div>\n",
       "<style>\n",
       "    .dataframe thead tr:only-child th {\n",
       "        text-align: right;\n",
       "    }\n",
       "\n",
       "    .dataframe thead th {\n",
       "        text-align: left;\n",
       "    }\n",
       "\n",
       "    .dataframe tbody tr th {\n",
       "        vertical-align: top;\n",
       "    }\n",
       "</style>\n",
       "<table border=\"1\" class=\"dataframe\">\n",
       "  <thead>\n",
       "    <tr style=\"text-align: right;\">\n",
       "      <th></th>\n",
       "      <th>Price</th>\n",
       "      <th>DateOfTransfer</th>\n",
       "      <th>PropertyType</th>\n",
       "      <th>Duration</th>\n",
       "      <th>Town</th>\n",
       "    </tr>\n",
       "  </thead>\n",
       "  <tbody>\n",
       "    <tr>\n",
       "      <th>0</th>\n",
       "      <td>59950</td>\n",
       "      <td>1995-02-06 00:00</td>\n",
       "      <td>F</td>\n",
       "      <td>L</td>\n",
       "      <td>LONDON</td>\n",
       "    </tr>\n",
       "    <tr>\n",
       "      <th>1</th>\n",
       "      <td>73000</td>\n",
       "      <td>1995-11-23 00:00</td>\n",
       "      <td>S</td>\n",
       "      <td>F</td>\n",
       "      <td>CHELMSFORD</td>\n",
       "    </tr>\n",
       "    <tr>\n",
       "      <th>2</th>\n",
       "      <td>55000</td>\n",
       "      <td>1995-03-31 00:00</td>\n",
       "      <td>S</td>\n",
       "      <td>F</td>\n",
       "      <td>BURGESS HILL</td>\n",
       "    </tr>\n",
       "    <tr>\n",
       "      <th>3</th>\n",
       "      <td>73000</td>\n",
       "      <td>1995-02-24 00:00</td>\n",
       "      <td>T</td>\n",
       "      <td>F</td>\n",
       "      <td>NEWCASTLE UPON TYNE</td>\n",
       "    </tr>\n",
       "    <tr>\n",
       "      <th>4</th>\n",
       "      <td>147500</td>\n",
       "      <td>1995-02-07 00:00</td>\n",
       "      <td>T</td>\n",
       "      <td>F</td>\n",
       "      <td>SHAFTESBURY</td>\n",
       "    </tr>\n",
       "  </tbody>\n",
       "</table>\n",
       "</div>"
      ],
      "text/plain": [
       "    Price    DateOfTransfer PropertyType Duration                 Town\n",
       "0   59950  1995-02-06 00:00            F        L               LONDON\n",
       "1   73000  1995-11-23 00:00            S        F           CHELMSFORD\n",
       "2   55000  1995-03-31 00:00            S        F         BURGESS HILL\n",
       "3   73000  1995-02-24 00:00            T        F  NEWCASTLE UPON TYNE\n",
       "4  147500  1995-02-07 00:00            T        F          SHAFTESBURY"
      ]
     },
     "execution_count": 6,
     "metadata": {},
     "output_type": "execute_result"
    }
   ],
   "source": [
    "# raw_data.head(5)\n",
    "# raw_data.shape\n",
    "# raw_train, raw_test = train_test_split(raw_data, test_size=0.5)\n",
    "columns = (list(raw_data.columns.values))\n",
    "for column in (columns):\n",
    "    if column is \"Duration\" or column is \"PropertyType\" or column is \"DateOfTransfer\" or column is \"Town\" or column is \"Price\":\n",
    "        continue\n",
    "    else:\n",
    "        raw_data = raw_data.drop(column, 1)\n",
    "raw_data.head()"
   ]
  },
  {
   "cell_type": "code",
   "execution_count": 7,
   "metadata": {},
   "outputs": [],
   "source": [
    "# raw_data[\"Price\"].dtype\n",
    "# raw_data[\"PropertyType\"].describe()\n",
    "# raw_data[\"Duration\"].describe()\n",
    "# raw_data[\"Town\"].describe()\n",
    "# raw_data[\"Price\"].describe()"
   ]
  },
  {
   "cell_type": "code",
   "execution_count": 8,
   "metadata": {},
   "outputs": [],
   "source": [
    "# ax = sns.stripplot(x = (raw_data['Postcode']) ,y = (raw_data['Price']), jitter = True, alpha =0.5)\n",
    "# plt.show()\n",
    "raw_data[\"DateOfTransfer\"] = pd.to_datetime(raw_data[\"DateOfTransfer\"],infer_datetime_format=True)"
   ]
  },
  {
   "cell_type": "markdown",
   "metadata": {},
   "source": [
    "### 2.1 Train and Test data split:"
   ]
  },
  {
   "cell_type": "code",
   "execution_count": 9,
   "metadata": {},
   "outputs": [],
   "source": [
    "# raw_data.head()\n",
    "split_date = pd.datetime(2015,1,1)\n",
    "train = raw_data.loc[raw_data['DateOfTransfer'] < split_date]\n",
    "test = raw_data.loc[raw_data['DateOfTransfer'] >= split_date]\n",
    "# raw_data.sort_values(by=\"DateOfTransfer\")\n"
   ]
  },
  {
   "cell_type": "code",
   "execution_count": 10,
   "metadata": {
    "scrolled": true
   },
   "outputs": [
    {
     "name": "stderr",
     "output_type": "stream",
     "text": [
      "/anaconda/lib/python3.6/site-packages/ipykernel_launcher.py:2: SettingWithCopyWarning: \n",
      "A value is trying to be set on a copy of a slice from a DataFrame.\n",
      "Try using .loc[row_indexer,col_indexer] = value instead\n",
      "\n",
      "See the caveats in the documentation: http://pandas.pydata.org/pandas-docs/stable/indexing.html#indexing-view-versus-copy\n",
      "  \n"
     ]
    }
   ],
   "source": [
    "# train[train['Town']=='LONDON'].Town\n",
    "train['Town'] = np.where(train['Town']== 'LONDON', 1, 0)"
   ]
  },
  {
   "cell_type": "code",
   "execution_count": 11,
   "metadata": {},
   "outputs": [],
   "source": [
    "# train['Town'].describe()"
   ]
  },
  {
   "cell_type": "markdown",
   "metadata": {},
   "source": [
    "### 2.2 Boolean encoding"
   ]
  },
  {
   "cell_type": "code",
   "execution_count": 12,
   "metadata": {},
   "outputs": [
    {
     "name": "stderr",
     "output_type": "stream",
     "text": [
      "/anaconda/lib/python3.6/site-packages/ipykernel_launcher.py:1: SettingWithCopyWarning: \n",
      "A value is trying to be set on a copy of a slice from a DataFrame.\n",
      "Try using .loc[row_indexer,col_indexer] = value instead\n",
      "\n",
      "See the caveats in the documentation: http://pandas.pydata.org/pandas-docs/stable/indexing.html#indexing-view-versus-copy\n",
      "  \"\"\"Entry point for launching an IPython kernel.\n"
     ]
    }
   ],
   "source": [
    "test['Town'] = np.where(test['Town']== 'LONDON', 1, 0)"
   ]
  },
  {
   "cell_type": "code",
   "execution_count": 13,
   "metadata": {},
   "outputs": [],
   "source": [
    "# test['Town'].describe()"
   ]
  },
  {
   "cell_type": "markdown",
   "metadata": {},
   "source": [
    "### 2.3 One-Hot encoding for train data:"
   ]
  },
  {
   "cell_type": "code",
   "execution_count": 14,
   "metadata": {},
   "outputs": [
    {
     "name": "stderr",
     "output_type": "stream",
     "text": [
      "/anaconda/lib/python3.6/site-packages/ipykernel_launcher.py:4: SettingWithCopyWarning: \n",
      "A value is trying to be set on a copy of a slice from a DataFrame.\n",
      "Try using .loc[row_indexer,col_indexer] = value instead\n",
      "\n",
      "See the caveats in the documentation: http://pandas.pydata.org/pandas-docs/stable/indexing.html#indexing-view-versus-copy\n",
      "  after removing the cwd from sys.path.\n"
     ]
    }
   ],
   "source": [
    "from sklearn import preprocessing\n",
    "le = preprocessing.LabelEncoder()\n",
    "le.fit(train['PropertyType'])\n",
    "train['PropertyType'] = le.transform(train['PropertyType'])\n"
   ]
  },
  {
   "cell_type": "code",
   "execution_count": 15,
   "metadata": {},
   "outputs": [],
   "source": [
    "# train.head()"
   ]
  },
  {
   "cell_type": "code",
   "execution_count": 16,
   "metadata": {},
   "outputs": [
    {
     "name": "stderr",
     "output_type": "stream",
     "text": [
      "/anaconda/lib/python3.6/site-packages/ipykernel_launcher.py:3: SettingWithCopyWarning: \n",
      "A value is trying to be set on a copy of a slice from a DataFrame.\n",
      "Try using .loc[row_indexer,col_indexer] = value instead\n",
      "\n",
      "See the caveats in the documentation: http://pandas.pydata.org/pandas-docs/stable/indexing.html#indexing-view-versus-copy\n",
      "  This is separate from the ipykernel package so we can avoid doing imports until\n"
     ]
    }
   ],
   "source": [
    "le_duration = preprocessing.LabelEncoder()\n",
    "le_duration.fit(train['Duration'])\n",
    "train['Duration'] = le_duration.transform(train['Duration'])"
   ]
  },
  {
   "cell_type": "code",
   "execution_count": null,
   "metadata": {
    "collapsed": true
   },
   "outputs": [],
   "source": []
  },
  {
   "cell_type": "markdown",
   "metadata": {},
   "source": [
    "### 2.4 One-Hot encoding for test data:"
   ]
  },
  {
   "cell_type": "code",
   "execution_count": 18,
   "metadata": {},
   "outputs": [
    {
     "name": "stderr",
     "output_type": "stream",
     "text": [
      "/anaconda/lib/python3.6/site-packages/ipykernel_launcher.py:3: SettingWithCopyWarning: \n",
      "A value is trying to be set on a copy of a slice from a DataFrame.\n",
      "Try using .loc[row_indexer,col_indexer] = value instead\n",
      "\n",
      "See the caveats in the documentation: http://pandas.pydata.org/pandas-docs/stable/indexing.html#indexing-view-versus-copy\n",
      "  This is separate from the ipykernel package so we can avoid doing imports until\n"
     ]
    }
   ],
   "source": [
    "le_test_pt = preprocessing.LabelEncoder()\n",
    "le_test_pt.fit(test['PropertyType'])\n",
    "test['PropertyType'] = le_test_pt.transform(test['PropertyType'])"
   ]
  },
  {
   "cell_type": "code",
   "execution_count": 20,
   "metadata": {},
   "outputs": [
    {
     "name": "stderr",
     "output_type": "stream",
     "text": [
      "/anaconda/lib/python3.6/site-packages/ipykernel_launcher.py:3: SettingWithCopyWarning: \n",
      "A value is trying to be set on a copy of a slice from a DataFrame.\n",
      "Try using .loc[row_indexer,col_indexer] = value instead\n",
      "\n",
      "See the caveats in the documentation: http://pandas.pydata.org/pandas-docs/stable/indexing.html#indexing-view-versus-copy\n",
      "  This is separate from the ipykernel package so we can avoid doing imports until\n"
     ]
    }
   ],
   "source": [
    "le_test_duration = preprocessing.LabelEncoder()\n",
    "le_test_duration.fit(test['Duration'])\n",
    "test['Duration'] = le_test_duration.transform(test['Duration'])"
   ]
  },
  {
   "cell_type": "markdown",
   "metadata": {},
   "source": [
    "### 2.5 Removing Date of Transfer column:"
   ]
  },
  {
   "cell_type": "code",
   "execution_count": 22,
   "metadata": {
    "collapsed": true
   },
   "outputs": [],
   "source": [
    "train = train.drop(\"DateOfTransfer\", 1)"
   ]
  },
  {
   "cell_type": "code",
   "execution_count": 23,
   "metadata": {
    "collapsed": true
   },
   "outputs": [],
   "source": [
    "test = test.drop(\"DateOfTransfer\", 1)"
   ]
  },
  {
   "cell_type": "markdown",
   "metadata": {},
   "source": [
    "### 2.6 Separating dependent and independent variables"
   ]
  },
  {
   "cell_type": "code",
   "execution_count": 26,
   "metadata": {
    "collapsed": true
   },
   "outputs": [],
   "source": [
    "trainY = train[\"Price\"]\n",
    "trainX = train.drop(\"Price\", 1)\n",
    "# test= test[test[\"Price\"] < 500000000]  ## Uncomment if outliers has to be removed\n",
    "testY = test[\"Price\"]\n",
    "testX = test.drop(\"Price\", 1)"
   ]
  },
  {
   "cell_type": "markdown",
   "metadata": {
    "scrolled": true
   },
   "source": [
    "# 3. Models and Evaluation:\n",
    "Few other models are also implemented, feel free to check those out."
   ]
  },
  {
   "cell_type": "markdown",
   "metadata": {},
   "source": [
    "### 3.1 Linear Regression(Baseline):"
   ]
  },
  {
   "cell_type": "code",
   "execution_count": 31,
   "metadata": {
    "scrolled": true
   },
   "outputs": [
    {
     "name": "stdout",
     "output_type": "stream",
     "text": [
      "-0.00427021052886\n",
      "1163195.44077\n",
      "173649.598543\n",
      "0.141192564914\n"
     ]
    }
   ],
   "source": [
    "linear = LinearRegression()\n",
    "linear.fit(trainX, trainY)\n",
    "predY_linear = linear.predict(testX)\n",
    "cod_linear = r2_score(testY, predY_linear, multioutput='variance_weighted')\n",
    "rms_linear = mean_squared_error(testY, predY_linear) ** 0.5\n",
    "mae_linear = mean_absolute_error(testY, predY_linear)\n",
    "cc_linear = np.corrcoef(testY, predY_linear)[1][0]\n",
    "print(cod_linear)\n",
    "print(rms_linear)\n",
    "print(mae_linear)\n",
    "print(cc_linear)"
   ]
  },
  {
   "cell_type": "markdown",
   "metadata": {},
   "source": [
    "### 3.2 XGBooster Regressor:"
   ]
  },
  {
   "cell_type": "code",
   "execution_count": 29,
   "metadata": {
    "scrolled": true
   },
   "outputs": [
    {
     "name": "stderr",
     "output_type": "stream",
     "text": [
      "/anaconda/lib/python3.6/site-packages/sklearn/cross_validation.py:44: DeprecationWarning: This module was deprecated in version 0.18 in favor of the model_selection module into which all the refactored classes and functions are moved. Also note that the interface of the new CV iterators are different from that of this module. This module will be removed in 0.20.\n",
      "  \"This module will be removed in 0.20.\", DeprecationWarning)\n"
     ]
    },
    {
     "name": "stdout",
     "output_type": "stream",
     "text": [
      "0.0345522006582\n",
      "1140490.83465\n",
      "206567.801635\n",
      "0.223089030475\n"
     ]
    }
   ],
   "source": [
    "import xgboost\n",
    "from xgboost.sklearn import XGBRegressor\n",
    "xg = XGBRegressor()\n",
    "xg.fit(trainX, trainY)  \n",
    "predY_xg = xg.predict(testX) \n",
    "cod_xg = r2_score(testY, predY_xg, multioutput='variance_weighted')\n",
    "rms_xg = mean_squared_error(testY, predY_xg) ** 0.5\n",
    "mae_xg = mean_absolute_error(testY, predY_xg)\n",
    "cc_xg = np.corrcoef(testY, predY_xg)[1][0]\n",
    "print(cod_xg)\n",
    "print(rms_xg)\n",
    "print(mae_xg)\n",
    "print(cc_xg)"
   ]
  },
  {
   "cell_type": "markdown",
   "metadata": {},
   "source": [
    "### 3.3 DecisionTree Regressor:\n",
    "Kindly ignore it, if this is not required."
   ]
  },
  {
   "cell_type": "code",
   "execution_count": 30,
   "metadata": {},
   "outputs": [
    {
     "name": "stdout",
     "output_type": "stream",
     "text": [
      "-0.00596427547447\n",
      "1164176.1023\n",
      "174087.1687\n",
      "0.127347864575\n"
     ]
    }
   ],
   "source": [
    "# from sklearn.tree import DecisionTreeRegressor\n",
    "# decision = DecisionTreeRegressor(max_depth=2)\n",
    "# decision.fit(trainX, trainY)\n",
    "# predY_decision = decision.predict(testX)\n",
    "# cod_decision = r2_score(testY, predY_decision, multioutput='variance_weighted')\n",
    "# rms_decision = mean_squared_error(testY, predY_decision) ** 0.5\n",
    "# mae_decision = mean_absolute_error(testY, predY_decision)\n",
    "# cc_decision = np.corrcoef(testY, predY_decision)[1][0]\n",
    "# print(cod_decision)\n",
    "# print(rms_decision)\n",
    "# print(mae_decision)\n",
    "# print(cc_decision)"
   ]
  },
  {
   "cell_type": "markdown",
   "metadata": {},
   "source": [
    "### 3.4 Ridge Regression:\n",
    "Kindly ignore it, if this is not required."
   ]
  },
  {
   "cell_type": "code",
   "execution_count": 28,
   "metadata": {},
   "outputs": [
    {
     "name": "stdout",
     "output_type": "stream",
     "text": [
      "-0.00427021650387\n",
      "1163195.44423\n",
      "173649.598363\n",
      "0.141192549688\n"
     ]
    }
   ],
   "source": [
    "# clf = Ridge(alpha=1.0)\n",
    "# clf.fit(trainX, trainY)\n",
    "# predY = clf.predict(testX)\n",
    "# cod = r2_score(testY, predY, multioutput='variance_weighted')\n",
    "# rms = mean_squared_error(testY, predY) ** 0.5\n",
    "# mae = mean_absolute_error(testY, predY)\n",
    "# cc = np.corrcoef(testY, predY)[1][0]\n",
    "# print(cod)\n",
    "# print(rms)\n",
    "# print(mae)\n",
    "# print(cc)"
   ]
  },
  {
   "cell_type": "markdown",
   "metadata": {},
   "source": [
    "### 3.5 Random Forest:"
   ]
  },
  {
   "cell_type": "code",
   "execution_count": 32,
   "metadata": {},
   "outputs": [],
   "source": [
    "# from sklearn.ensemble import RandomForestClassifier\n",
    "# rf = RandomForestClassifier(n_estimators = 5)\n",
    "# rf.fit(trainX, trainY)\n",
    "# predY_rf = rf.predict(testX)\n",
    "# cod_rf = r2_score(testY, predY_rf, multioutput='variance_weighted')\n",
    "# rms_rf = mean_squared_error(testY, predY_rf) ** 0.5\n",
    "# mae_rf = mean_absolute_error(testY, predY_rf)\n",
    "# cc_rf = np.corrcoef(testY, predY_rf)[1][0]\n",
    "# print(cod_rf)\n",
    "# print(rms_rf)\n",
    "# print(mae_rf)\n",
    "# print(cc_rf)"
   ]
  },
  {
   "cell_type": "markdown",
   "metadata": {},
   "source": [
    "### Scater plot for predicted and measured Price values:"
   ]
  },
  {
   "cell_type": "code",
   "execution_count": 33,
   "metadata": {},
   "outputs": [
    {
     "data": {
      "image/png": "[encoded data removed]",
      "text/plain": [
       "<matplotlib.figure.Figure at 0x2df07ecf8>"
      ]
     },
     "metadata": {},
     "output_type": "display_data"
    }
   ],
   "source": [
    "plt.scatter(predY_linear, testY, c = \"red\")\n",
    "plt.show()"
   ]
  },
  {
   "cell_type": "markdown",
   "metadata": {},
   "source": [
    "# 4. Exploratory Data Analysis:"
   ]
  },
  {
   "cell_type": "markdown",
   "metadata": {},
   "source": [
    "## 4.1 Correlation between Propoerty type and Price"
   ]
  },
  {
   "cell_type": "code",
   "execution_count": 34,
   "metadata": {},
   "outputs": [
    {
     "data": {
      "image/png": "[encoded data removed]",
      "text/plain": [
       "<matplotlib.figure.Figure at 0x2b7772e80>"
      ]
     },
     "metadata": {},
     "output_type": "display_data"
    }
   ],
   "source": [
    "sns.stripplot(x=\"PropertyType\", y=\"Price\", data=train);"
   ]
  },
  {
   "cell_type": "markdown",
   "metadata": {},
   "source": [
    "## 4.2 Correlation between Duration type and Price"
   ]
  },
  {
   "cell_type": "code",
   "execution_count": 35,
   "metadata": {},
   "outputs": [
    {
     "data": {
      "image/png": "[encoded data removed]",
      "text/plain": [
       "<matplotlib.figure.Figure at 0x2a2694cf8>"
      ]
     },
     "metadata": {},
     "output_type": "display_data"
    }
   ],
   "source": [
    "sns.stripplot(x=\"Duration\", y=\"Price\", data=train);"
   ]
  },
  {
   "cell_type": "markdown",
   "metadata": {},
   "source": [
    "## 4.3 Correlation between Town(isLondon) and Price"
   ]
  },
  {
   "cell_type": "code",
   "execution_count": 36,
   "metadata": {},
   "outputs": [
    {
     "data": {
      "image/png": "[encoded data removed]",
      "text/plain": [
       "<matplotlib.figure.Figure at 0x285cf4d30>"
      ]
     },
     "metadata": {},
     "output_type": "display_data"
    }
   ],
   "source": [
    "sns.stripplot(x=\"Town\", y=\"Price\", data=train);"
   ]
  },
  {
   "cell_type": "code",
   "execution_count": 37,
   "metadata": {},
   "outputs": [],
   "source": [
    "# formula = 'Price ~ C(PropertyType) + C(Duration) + C(Town) + C(PropertyType):C(Duration):C(Town)'\n",
    "# model = ols(formula, train).fit()\n",
    "# aov_table = statsmodels.stats.anova.anova_lm(model, typ=3)\n",
    "# print(aov_table)"
   ]
  },
  {
   "cell_type": "code",
   "execution_count": null,
   "metadata": {
    "collapsed": true
   },
   "outputs": [],
   "source": []
  }
 ],
 "metadata": {
  "kernelspec": {
   "display_name": "Python 3",
   "language": "python",
   "name": "python3"
  },
  "language_info": {
   "codemirror_mode": {
    "name": "ipython",
    "version": 3
   },
   "file_extension": ".py",
   "mimetype": "text/x-python",
   "name": "python",
   "nbconvert_exporter": "python",
   "pygments_lexer": "ipython3",
   "version": "3.6.1"
  }
 },
 "nbformat": 4,
 "nbformat_minor": 2
}
